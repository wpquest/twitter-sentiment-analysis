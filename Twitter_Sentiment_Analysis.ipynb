{
  "nbformat": 4,
  "nbformat_minor": 0,
  "metadata": {
    "colab": {
      "name": "Twitter Sentiment Analysis.ipynb",
      "provenance": [],
      "collapsed_sections": []
    },
    "kernelspec": {
      "name": "python3",
      "display_name": "Python 3"
    }
  },
  "cells": [
    {
      "cell_type": "code",
      "metadata": {
        "id": "MIPw1bQ2fs4A",
        "colab_type": "code",
        "colab": {}
      },
      "source": [
        "#Desc: twitter sentiment analysis program that parses the tweets fetched from Twitter using Python"
      ],
      "execution_count": null,
      "outputs": []
    },
    {
      "cell_type": "code",
      "metadata": {
        "id": "WXTzxpICgI3Y",
        "colab_type": "code",
        "colab": {}
      },
      "source": [
        "import tweepy\n",
        "from textblob import TextBlob\n",
        "from wordcloud import WordCloud\n",
        "import pandas as pd\n",
        "import numpy as np\n",
        "import re\n",
        "import matplotlib.pyplot as plt\n",
        "plt.style.use('fivethirtyeight')"
      ],
      "execution_count": null,
      "outputs": []
    },
    {
      "cell_type": "code",
      "metadata": {
        "id": "QkKKHc5phE8W",
        "colab_type": "code",
        "colab": {
          "resources": {
            "http://localhost:8080/nbextensions/google.colab/files.js": {
              "data": "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",
              "ok": true,
              "headers": [
                [
                  "content-type",
                  "application/javascript"
                ]
              ],
              "status": 200,
              "status_text": ""
            }
          },
          "base_uri": "https://localhost:8080/",
          "height": 73
        },
        "outputId": "08b86ff6-50d3-42d7-eedc-64cdf9692d1d"
      },
      "source": [
        "#load the data\n",
        "from google.colab import files\n",
        "uploaded = files.upload()"
      ],
      "execution_count": null,
      "outputs": [
        {
          "output_type": "display_data",
          "data": {
            "text/html": [
              "\n",
              "     <input type=\"file\" id=\"files-6c75e707-85dc-420a-8815-33995e635905\" name=\"files[]\" multiple disabled\n",
              "        style=\"border:none\" />\n",
              "     <output id=\"result-6c75e707-85dc-420a-8815-33995e635905\">\n",
              "      Upload widget is only available when the cell has been executed in the\n",
              "      current browser session. Please rerun this cell to enable.\n",
              "      </output>\n",
              "      <script src=\"/nbextensions/google.colab/files.js\"></script> "
            ],
            "text/plain": [
              "<IPython.core.display.HTML object>"
            ]
          },
          "metadata": {
            "tags": []
          }
        },
        {
          "output_type": "stream",
          "text": [
            "Saving login.csv to login (1).csv\n"
          ],
          "name": "stdout"
        }
      ]
    },
    {
      "cell_type": "code",
      "metadata": {
        "id": "6cBTGLmYvqwd",
        "colab_type": "code",
        "colab": {}
      },
      "source": [
        "# get the data\n",
        "log = pd.read_csv('login.csv')"
      ],
      "execution_count": null,
      "outputs": []
    },
    {
      "cell_type": "code",
      "metadata": {
        "id": "dymueTRqiyjf",
        "colab_type": "code",
        "colab": {}
      },
      "source": [
        "# Twitter API credentials\n",
        "# dont understand how to get the data from login csv\n",
        "# so i put the credentials in variable\n",
        "consumerKey = 'FC9tkUpEaJT9CRbY2oBBSUr79'\n",
        "consumerSecret = '7kGxIfkBAsQXpAXwig3Xihh4R6UWJDhk7uf40wvpD0uttKi9s3'\n",
        "accessToken = '813812168348925952-o13CjpUhliLsx8RRsDxs7MBRR1PNljk'\n",
        "accessTokenSecret = '4tiKOkO60jafMWQqzFXZm1J7rwPWiFKDkuzlHYyP79RGc'"
      ],
      "execution_count": null,
      "outputs": []
    },
    {
      "cell_type": "code",
      "metadata": {
        "id": "_YvN8yhkkA6o",
        "colab_type": "code",
        "colab": {}
      },
      "source": [
        "# Create the authentication object\n",
        "authenticate = tweepy.OAuthHandler(consumerKey, consumerSecret)\n",
        "\n",
        "# Set the access token and access token secret\n",
        "authenticate.set_access_token(accessToken, accessTokenSecret)\n",
        "\n",
        "# Create the API object while passing in the auth infromation\n",
        "api = tweepy.API(authenticate, wait_on_rate_limit=True)"
      ],
      "execution_count": null,
      "outputs": []
    },
    {
      "cell_type": "code",
      "metadata": {
        "id": "ZGcZ1W6IkP-E",
        "colab_type": "code",
        "colab": {
          "base_uri": "https://localhost:8080/",
          "height": 332
        },
        "outputId": "4eab9d2d-91ed-496b-8718-bc70687bdbbc"
      },
      "source": [
        "# Extract 100 tweets from a twitter user\n",
        "posts = api.user_timeline(screen_name = \"RickandMorty\", count = 100, lang = \"en\", tweet_mode=\"extended\")\n",
        "\n",
        "# Print the last 5 tweets from the account\n",
        "print(\"Show the 5 recent tweets: \\n\")\n",
        "i = 1\n",
        "for tweet in posts[0:5]:\n",
        "  print(str(i) + ') '+ tweet.full_text + '\\n')\n",
        "  i = i + 1"
      ],
      "execution_count": null,
      "outputs": [
        {
          "output_type": "stream",
          "text": [
            "Show the 5 recent tweets: \n",
            "\n",
            "1) The @adultswim live con experience is back and this time it’s v.i.r.t.u.a.l. \n",
            "\n",
            "Join us on the Internet July 23-25 for live events, cosplay, panels, giveaways, music &amp; surprises. It’ll be just like the real con but less sweaty &amp; more free. \n",
            "\n",
            "For info visit https://t.co/CjALfW1VNU https://t.co/djEzcQgQHC\n",
            "\n",
            "2) Worms. #rickandmorty @titmouseinc https://t.co/F18HzvAmIZ\n",
            "\n",
            "3) Watch \"The Vat of Acid Episode\" FREE on the @adultswim app.\n",
            "https://t.co/MhxSQemfh6 https://t.co/3iRQ4IBc9l\n",
            "\n",
            "4) Bounty. #rickandmorty https://t.co/9DbJhvo6Sd\n",
            "\n",
            "5) RT @PocketMortys: Stack Pringles flavors to make new ones. Your Mortys will love it. @MortyBot1 @Pringles #ad https://t.co/Gz7hkcVCNJ\n",
            "\n"
          ],
          "name": "stdout"
        }
      ]
    },
    {
      "cell_type": "code",
      "metadata": {
        "id": "A176UI3qteca",
        "colab_type": "code",
        "colab": {
          "base_uri": "https://localhost:8080/",
          "height": 202
        },
        "outputId": "b867bea5-363d-4ad8-bf24-c5af7c3ba041"
      },
      "source": [
        "# Create a dataframe with a column called Tweets\n",
        "df = pd.DataFrame( [tweet.full_text for tweet in posts], columns=['Tweets'])\n",
        "\n",
        "# Show the first 5 rows of data\n",
        "df.head()\n"
      ],
      "execution_count": null,
      "outputs": [
        {
          "output_type": "execute_result",
          "data": {
            "text/html": [
              "<div>\n",
              "<style scoped>\n",
              "    .dataframe tbody tr th:only-of-type {\n",
              "        vertical-align: middle;\n",
              "    }\n",
              "\n",
              "    .dataframe tbody tr th {\n",
              "        vertical-align: top;\n",
              "    }\n",
              "\n",
              "    .dataframe thead th {\n",
              "        text-align: right;\n",
              "    }\n",
              "</style>\n",
              "<table border=\"1\" class=\"dataframe\">\n",
              "  <thead>\n",
              "    <tr style=\"text-align: right;\">\n",
              "      <th></th>\n",
              "      <th>Tweets</th>\n",
              "    </tr>\n",
              "  </thead>\n",
              "  <tbody>\n",
              "    <tr>\n",
              "      <th>0</th>\n",
              "      <td>The @adultswim live con experience is back and...</td>\n",
              "    </tr>\n",
              "    <tr>\n",
              "      <th>1</th>\n",
              "      <td>Worms. #rickandmorty @titmouseinc https://t.co...</td>\n",
              "    </tr>\n",
              "    <tr>\n",
              "      <th>2</th>\n",
              "      <td>Watch \"The Vat of Acid Episode\" FREE on the @a...</td>\n",
              "    </tr>\n",
              "    <tr>\n",
              "      <th>3</th>\n",
              "      <td>Bounty. #rickandmorty https://t.co/9DbJhvo6Sd</td>\n",
              "    </tr>\n",
              "    <tr>\n",
              "      <th>4</th>\n",
              "      <td>RT @PocketMortys: Stack Pringles flavors to ma...</td>\n",
              "    </tr>\n",
              "  </tbody>\n",
              "</table>\n",
              "</div>"
            ],
            "text/plain": [
              "                                              Tweets\n",
              "0  The @adultswim live con experience is back and...\n",
              "1  Worms. #rickandmorty @titmouseinc https://t.co...\n",
              "2  Watch \"The Vat of Acid Episode\" FREE on the @a...\n",
              "3      Bounty. #rickandmorty https://t.co/9DbJhvo6Sd\n",
              "4  RT @PocketMortys: Stack Pringles flavors to ma..."
            ]
          },
          "metadata": {
            "tags": []
          },
          "execution_count": 37
        }
      ]
    },
    {
      "cell_type": "code",
      "metadata": {
        "id": "BXNlRvTxuC2k",
        "colab_type": "code",
        "colab": {
          "base_uri": "https://localhost:8080/",
          "height": 415
        },
        "outputId": "e72c4b5e-2ffb-42fe-f32b-329dc40b6616"
      },
      "source": [
        "# Clean the text from @, hashtags, retweets, url\n",
        "# Create the function to clean it\n",
        "def cleanTxt(text):\n",
        "  # r tells python that the expression is a raw string\n",
        "  text = re.sub(r'@[A-Za-z0-9]+', '', text) #Removed @mention\n",
        "  text = re.sub(r'#', '', text) #Removing the hasttags\n",
        "  text = re.sub(r'RT[\\s]:+', '', text) #Removing RT\n",
        "  text = re.sub(r'https?:\\/\\/\\S+', '', text) #Removing url or hyperlink\n",
        "  text = re.sub(r'\\n', '', text) #Removing the \\n\n",
        "\n",
        "  return text\n",
        "\n",
        "# Cleaning the text\n",
        "df ['Tweets'] = df['Tweets'].apply(cleanTxt)\n",
        "\n",
        "# Show the cleaned text\n",
        "df\n"
      ],
      "execution_count": null,
      "outputs": [
        {
          "output_type": "execute_result",
          "data": {
            "text/html": [
              "<div>\n",
              "<style scoped>\n",
              "    .dataframe tbody tr th:only-of-type {\n",
              "        vertical-align: middle;\n",
              "    }\n",
              "\n",
              "    .dataframe tbody tr th {\n",
              "        vertical-align: top;\n",
              "    }\n",
              "\n",
              "    .dataframe thead th {\n",
              "        text-align: right;\n",
              "    }\n",
              "</style>\n",
              "<table border=\"1\" class=\"dataframe\">\n",
              "  <thead>\n",
              "    <tr style=\"text-align: right;\">\n",
              "      <th></th>\n",
              "      <th>Tweets</th>\n",
              "    </tr>\n",
              "  </thead>\n",
              "  <tbody>\n",
              "    <tr>\n",
              "      <th>0</th>\n",
              "      <td>The  live con experience is back and this time...</td>\n",
              "    </tr>\n",
              "    <tr>\n",
              "      <th>1</th>\n",
              "      <td>Worms. rickandmorty</td>\n",
              "    </tr>\n",
              "    <tr>\n",
              "      <th>2</th>\n",
              "      <td>Watch \"The Vat of Acid Episode\" FREE on the  a...</td>\n",
              "    </tr>\n",
              "    <tr>\n",
              "      <th>3</th>\n",
              "      <td>Bounty. rickandmorty</td>\n",
              "    </tr>\n",
              "    <tr>\n",
              "      <th>4</th>\n",
              "      <td>Stack Pringles flavors to make new ones. Your...</td>\n",
              "    </tr>\n",
              "    <tr>\n",
              "      <th>...</th>\n",
              "      <td>...</td>\n",
              "    </tr>\n",
              "    <tr>\n",
              "      <th>95</th>\n",
              "      <td>Wendy Morty is waiting for you. This Morty lo...</td>\n",
              "    </tr>\n",
              "    <tr>\n",
              "      <th>96</th>\n",
              "      <td>Rick and Morty: Season 4 is about to return, ...</td>\n",
              "    </tr>\n",
              "    <tr>\n",
              "      <th>97</th>\n",
              "      <td>Enjoy this phone background, broh.Art by</td>\n",
              "    </tr>\n",
              "    <tr>\n",
              "      <th>98</th>\n",
              "      <td>Animation challenges, dawg. This shit is hard,...</td>\n",
              "    </tr>\n",
              "    <tr>\n",
              "      <th>99</th>\n",
              "      <td>Yum. Today's phone background by Sam Lyon.</td>\n",
              "    </tr>\n",
              "  </tbody>\n",
              "</table>\n",
              "<p>100 rows × 1 columns</p>\n",
              "</div>"
            ],
            "text/plain": [
              "                                               Tweets\n",
              "0   The  live con experience is back and this time...\n",
              "1                               Worms. rickandmorty  \n",
              "2   Watch \"The Vat of Acid Episode\" FREE on the  a...\n",
              "3                               Bounty. rickandmorty \n",
              "4    Stack Pringles flavors to make new ones. Your...\n",
              "..                                                ...\n",
              "95   Wendy Morty is waiting for you. This Morty lo...\n",
              "96   Rick and Morty: Season 4 is about to return, ...\n",
              "97         Enjoy this phone background, broh.Art by  \n",
              "98  Animation challenges, dawg. This shit is hard,...\n",
              "99        Yum. Today's phone background by Sam Lyon. \n",
              "\n",
              "[100 rows x 1 columns]"
            ]
          },
          "metadata": {
            "tags": []
          },
          "execution_count": 42
        }
      ]
    },
    {
      "cell_type": "code",
      "metadata": {
        "id": "QF5qH1hMzVTP",
        "colab_type": "code",
        "colab": {
          "base_uri": "https://localhost:8080/",
          "height": 415
        },
        "outputId": "8f6ab94c-3e39-4ba8-bb59-404df5ece314"
      },
      "source": [
        "# Create function to get the subjectivity\n",
        "# subjectivity tells the feeling of the text\n",
        "def getSubjectivity(text):\n",
        "  return TextBlob(text).sentiment.subjectivity\n",
        "\n",
        "# Create a function to get the polarity\n",
        "# polarity tells the positive or negative\n",
        "def getPolarity(text):\n",
        "  return TextBlob(text).sentiment.polarity\n",
        "\n",
        "# Create two new columns\n",
        "df['Subjectivity'] = df['Tweets'].apply(getSubjectivity)\n",
        "df['Polarity'] = df['Tweets'].apply(getPolarity)\n",
        "\n",
        "# Show the new dataframe with the new columns\n",
        "df"
      ],
      "execution_count": null,
      "outputs": [
        {
          "output_type": "execute_result",
          "data": {
            "text/html": [
              "<div>\n",
              "<style scoped>\n",
              "    .dataframe tbody tr th:only-of-type {\n",
              "        vertical-align: middle;\n",
              "    }\n",
              "\n",
              "    .dataframe tbody tr th {\n",
              "        vertical-align: top;\n",
              "    }\n",
              "\n",
              "    .dataframe thead th {\n",
              "        text-align: right;\n",
              "    }\n",
              "</style>\n",
              "<table border=\"1\" class=\"dataframe\">\n",
              "  <thead>\n",
              "    <tr style=\"text-align: right;\">\n",
              "      <th></th>\n",
              "      <th>Tweets</th>\n",
              "      <th>Subjectivity</th>\n",
              "      <th>Polarity</th>\n",
              "    </tr>\n",
              "  </thead>\n",
              "  <tbody>\n",
              "    <tr>\n",
              "      <th>0</th>\n",
              "      <td>The  live con experience is back and this time...</td>\n",
              "      <td>0.380952</td>\n",
              "      <td>0.172294</td>\n",
              "    </tr>\n",
              "    <tr>\n",
              "      <th>1</th>\n",
              "      <td>Worms. rickandmorty</td>\n",
              "      <td>0.000000</td>\n",
              "      <td>0.000000</td>\n",
              "    </tr>\n",
              "    <tr>\n",
              "      <th>2</th>\n",
              "      <td>Watch \"The Vat of Acid Episode\" FREE on the  a...</td>\n",
              "      <td>0.800000</td>\n",
              "      <td>0.400000</td>\n",
              "    </tr>\n",
              "    <tr>\n",
              "      <th>3</th>\n",
              "      <td>Bounty. rickandmorty</td>\n",
              "      <td>0.000000</td>\n",
              "      <td>0.000000</td>\n",
              "    </tr>\n",
              "    <tr>\n",
              "      <th>4</th>\n",
              "      <td>Stack Pringles flavors to make new ones. Your...</td>\n",
              "      <td>0.527273</td>\n",
              "      <td>0.318182</td>\n",
              "    </tr>\n",
              "    <tr>\n",
              "      <th>...</th>\n",
              "      <td>...</td>\n",
              "      <td>...</td>\n",
              "      <td>...</td>\n",
              "    </tr>\n",
              "    <tr>\n",
              "      <th>95</th>\n",
              "      <td>Wendy Morty is waiting for you. This Morty lo...</td>\n",
              "      <td>0.500000</td>\n",
              "      <td>0.300000</td>\n",
              "    </tr>\n",
              "    <tr>\n",
              "      <th>96</th>\n",
              "      <td>Rick and Morty: Season 4 is about to return, ...</td>\n",
              "      <td>0.750000</td>\n",
              "      <td>-0.250000</td>\n",
              "    </tr>\n",
              "    <tr>\n",
              "      <th>97</th>\n",
              "      <td>Enjoy this phone background, broh.Art by</td>\n",
              "      <td>0.500000</td>\n",
              "      <td>0.400000</td>\n",
              "    </tr>\n",
              "    <tr>\n",
              "      <th>98</th>\n",
              "      <td>Animation challenges, dawg. This shit is hard,...</td>\n",
              "      <td>0.670833</td>\n",
              "      <td>-0.245833</td>\n",
              "    </tr>\n",
              "    <tr>\n",
              "      <th>99</th>\n",
              "      <td>Yum. Today's phone background by Sam Lyon.</td>\n",
              "      <td>0.000000</td>\n",
              "      <td>0.000000</td>\n",
              "    </tr>\n",
              "  </tbody>\n",
              "</table>\n",
              "<p>100 rows × 3 columns</p>\n",
              "</div>"
            ],
            "text/plain": [
              "                                               Tweets  Subjectivity  Polarity\n",
              "0   The  live con experience is back and this time...      0.380952  0.172294\n",
              "1                               Worms. rickandmorty        0.000000  0.000000\n",
              "2   Watch \"The Vat of Acid Episode\" FREE on the  a...      0.800000  0.400000\n",
              "3                               Bounty. rickandmorty       0.000000  0.000000\n",
              "4    Stack Pringles flavors to make new ones. Your...      0.527273  0.318182\n",
              "..                                                ...           ...       ...\n",
              "95   Wendy Morty is waiting for you. This Morty lo...      0.500000  0.300000\n",
              "96   Rick and Morty: Season 4 is about to return, ...      0.750000 -0.250000\n",
              "97         Enjoy this phone background, broh.Art by        0.500000  0.400000\n",
              "98  Animation challenges, dawg. This shit is hard,...      0.670833 -0.245833\n",
              "99        Yum. Today's phone background by Sam Lyon.       0.000000  0.000000\n",
              "\n",
              "[100 rows x 3 columns]"
            ]
          },
          "metadata": {
            "tags": []
          },
          "execution_count": 43
        }
      ]
    },
    {
      "cell_type": "code",
      "metadata": {
        "id": "VZfGZj4g1J-i",
        "colab_type": "code",
        "colab": {
          "base_uri": "https://localhost:8080/",
          "height": 256
        },
        "outputId": "7c4acc10-995f-4e5c-9f83-688c67bde8fe"
      },
      "source": [
        "# Plot the Word Cloud\n",
        "allWords = ' '.join( [twts for twts in df['Tweets']])\n",
        "wordCloud = WordCloud(width = 500, height = 300, random_state = 21, max_font_size = 119).generate(allWords)\n",
        "\n",
        "plt.imshow(wordCloud, interpolation='bilinear')\n",
        "plt.axis('off')\n",
        "plt.show()"
      ],
      "execution_count": null,
      "outputs": [
        {
          "output_type": "display_data",
          "data": {
            "image/png": "[encoded data removed]",
            "text/plain": [
              "<Figure size 432x288 with 1 Axes>"
            ]
          },
          "metadata": {
            "tags": []
          }
        }
      ]
    },
    {
      "cell_type": "code",
      "metadata": {
        "id": "OgLA4UHb3zvm",
        "colab_type": "code",
        "colab": {
          "base_uri": "https://localhost:8080/",
          "height": 415
        },
        "outputId": "dd0e6bf1-cd74-4828-cad8-f709c0e70a5b"
      },
      "source": [
        "# Create a function to compute the negative, neutral and positive analysis\n",
        "def getAnalysis(score):\n",
        "  if score < 0:\n",
        "    return 'Negative'\n",
        "  elif score == 0:\n",
        "    return 'Neutral'\n",
        "  else:\n",
        "    return 'Positive'\n",
        "\n",
        "df['Analysis'] = df['Polarity'].apply(getAnalysis)\n",
        "\n",
        "# Show the DafaFrame\n",
        "df"
      ],
      "execution_count": null,
      "outputs": [
        {
          "output_type": "execute_result",
          "data": {
            "text/html": [
              "<div>\n",
              "<style scoped>\n",
              "    .dataframe tbody tr th:only-of-type {\n",
              "        vertical-align: middle;\n",
              "    }\n",
              "\n",
              "    .dataframe tbody tr th {\n",
              "        vertical-align: top;\n",
              "    }\n",
              "\n",
              "    .dataframe thead th {\n",
              "        text-align: right;\n",
              "    }\n",
              "</style>\n",
              "<table border=\"1\" class=\"dataframe\">\n",
              "  <thead>\n",
              "    <tr style=\"text-align: right;\">\n",
              "      <th></th>\n",
              "      <th>Tweets</th>\n",
              "      <th>Subjectivity</th>\n",
              "      <th>Polarity</th>\n",
              "      <th>Analysis</th>\n",
              "    </tr>\n",
              "  </thead>\n",
              "  <tbody>\n",
              "    <tr>\n",
              "      <th>0</th>\n",
              "      <td>The  live con experience is back and this time...</td>\n",
              "      <td>0.380952</td>\n",
              "      <td>0.172294</td>\n",
              "      <td>Positive</td>\n",
              "    </tr>\n",
              "    <tr>\n",
              "      <th>1</th>\n",
              "      <td>Worms. rickandmorty</td>\n",
              "      <td>0.000000</td>\n",
              "      <td>0.000000</td>\n",
              "      <td>Neutral</td>\n",
              "    </tr>\n",
              "    <tr>\n",
              "      <th>2</th>\n",
              "      <td>Watch \"The Vat of Acid Episode\" FREE on the  a...</td>\n",
              "      <td>0.800000</td>\n",
              "      <td>0.400000</td>\n",
              "      <td>Positive</td>\n",
              "    </tr>\n",
              "    <tr>\n",
              "      <th>3</th>\n",
              "      <td>Bounty. rickandmorty</td>\n",
              "      <td>0.000000</td>\n",
              "      <td>0.000000</td>\n",
              "      <td>Neutral</td>\n",
              "    </tr>\n",
              "    <tr>\n",
              "      <th>4</th>\n",
              "      <td>Stack Pringles flavors to make new ones. Your...</td>\n",
              "      <td>0.527273</td>\n",
              "      <td>0.318182</td>\n",
              "      <td>Positive</td>\n",
              "    </tr>\n",
              "    <tr>\n",
              "      <th>...</th>\n",
              "      <td>...</td>\n",
              "      <td>...</td>\n",
              "      <td>...</td>\n",
              "      <td>...</td>\n",
              "    </tr>\n",
              "    <tr>\n",
              "      <th>95</th>\n",
              "      <td>Wendy Morty is waiting for you. This Morty lo...</td>\n",
              "      <td>0.500000</td>\n",
              "      <td>0.300000</td>\n",
              "      <td>Positive</td>\n",
              "    </tr>\n",
              "    <tr>\n",
              "      <th>96</th>\n",
              "      <td>Rick and Morty: Season 4 is about to return, ...</td>\n",
              "      <td>0.750000</td>\n",
              "      <td>-0.250000</td>\n",
              "      <td>Negative</td>\n",
              "    </tr>\n",
              "    <tr>\n",
              "      <th>97</th>\n",
              "      <td>Enjoy this phone background, broh.Art by</td>\n",
              "      <td>0.500000</td>\n",
              "      <td>0.400000</td>\n",
              "      <td>Positive</td>\n",
              "    </tr>\n",
              "    <tr>\n",
              "      <th>98</th>\n",
              "      <td>Animation challenges, dawg. This shit is hard,...</td>\n",
              "      <td>0.670833</td>\n",
              "      <td>-0.245833</td>\n",
              "      <td>Negative</td>\n",
              "    </tr>\n",
              "    <tr>\n",
              "      <th>99</th>\n",
              "      <td>Yum. Today's phone background by Sam Lyon.</td>\n",
              "      <td>0.000000</td>\n",
              "      <td>0.000000</td>\n",
              "      <td>Neutral</td>\n",
              "    </tr>\n",
              "  </tbody>\n",
              "</table>\n",
              "<p>100 rows × 4 columns</p>\n",
              "</div>"
            ],
            "text/plain": [
              "                                               Tweets  ...  Analysis\n",
              "0   The  live con experience is back and this time...  ...  Positive\n",
              "1                               Worms. rickandmorty    ...   Neutral\n",
              "2   Watch \"The Vat of Acid Episode\" FREE on the  a...  ...  Positive\n",
              "3                               Bounty. rickandmorty   ...   Neutral\n",
              "4    Stack Pringles flavors to make new ones. Your...  ...  Positive\n",
              "..                                                ...  ...       ...\n",
              "95   Wendy Morty is waiting for you. This Morty lo...  ...  Positive\n",
              "96   Rick and Morty: Season 4 is about to return, ...  ...  Negative\n",
              "97         Enjoy this phone background, broh.Art by    ...  Positive\n",
              "98  Animation challenges, dawg. This shit is hard,...  ...  Negative\n",
              "99        Yum. Today's phone background by Sam Lyon.   ...   Neutral\n",
              "\n",
              "[100 rows x 4 columns]"
            ]
          },
          "metadata": {
            "tags": []
          },
          "execution_count": 45
        }
      ]
    },
    {
      "cell_type": "code",
      "metadata": {
        "id": "NBHw32YK4fPO",
        "colab_type": "code",
        "colab": {
          "base_uri": "https://localhost:8080/",
          "height": 1000
        },
        "outputId": "e6ea0a47-96ae-464d-d0aa-14a5bddf7272"
      },
      "source": [
        "# Print all of the positive tweets\n",
        "j = 1\n",
        "sortedDF = df.sort_values(by=['Polarity'])\n",
        "for i in range(0, sortedDF.shape[0]):\n",
        "  if (sortedDF['Analysis'][i] == 'Positive'):\n",
        "    print(str(j) + ') ' + sortedDF['Tweets'][i])\n",
        "    print()\n",
        "    j = j + 1"
      ],
      "execution_count": null,
      "outputs": [
        {
          "output_type": "stream",
          "text": [
            "1) The  live con experience is back and this time it’s v.i.r.t.u.a.l. Join us on the Internet July 23-25 for live events, cosplay, panels, giveaways, music &amp; surprises. It’ll be just like the real con but less sweaty &amp; more free. For info visit  \n",
            "\n",
            "2) Watch \"The Vat of Acid Episode\" FREE on the  app. \n",
            "\n",
            "3)  Stack Pringles flavors to make new ones. Your Mortys will love it.   ad \n",
            "\n",
            "4) Get the latest RickandMorty info in the  newsletter. Sign up here:  \n",
            "\n",
            "5)  Despite Rick’s best efforts to control the universe, trauma sends him spiraling into despair time and time again. https:…\n",
            "\n",
            "6) \"Never Ricking Morty\" is now streaming for free on the Adult Swim app:  \n",
            "\n",
            "7) The creative team behind Childrick of Mort fields phone calls and answers your questions about spicy deleted scenes, unproduceable action sequences, and how to avoid animating pointy things. \n",
            "\n",
            "8) There is so much we can learn from nature. Watch Rick and Morty seasons 1-3 now streaming on  and Sundays at 11:30pm on Adult Swim. HBOMax \n",
            "\n",
            "9)  Take a bong rip of nature with these new Mortys. \n",
            "\n",
            "10) Level up with a bong rip of nature. Stream 'Camping' from the latest RickandMorty episode:  \n",
            "\n",
            "11)  New episode tonight on  \n",
            "\n",
            "12)  New  tonight! The family goes camping. That’s it. No scifi bullshit. I wrote this one. Shout out to dir…\n",
            "\n",
            "13) No sci-fi bullsh*t this week. New rickandmorty tomorrow at 11:30pm EST/PST on  \n",
            "\n",
            "14) Level up with a bong rip of nature. New  tomorrow at 11:30pm EST/PST on adultswim \n",
            "\n",
            "15) Low-priced merch for low-effort money. Watch As Seen on Adult Swim tonight at 8pm EST on the [as] app or our YouTube Live. This week’s item is the Discreet Assassin Figure. Buy it tonight starting at 8pm EST:  \n",
            "\n",
            "16) Welcome back. aftercredits  \n",
            "\n",
            "17) Just a normal Smith family vacation. New RickandMorty this Sunday at 11:30pm ET/PT on  \n",
            "\n",
            "18)  Another week, another tee drop! Hurry this tee is exclusive, limited edition, and just all around extra special. …\n",
            "\n",
            "19) The writers and directors of Rick and Morty up their production value by introducing a new means of destruction in The Vat of Acid Episode:  \n",
            "\n",
            "20) Ok, we'd say that's pretty acid-y. rickandmorty \n",
            "\n",
            "21)  Vat of acid tonight! Or like.. a bit ago if you’re on the east coast. It’s my favorite of this batch. \n",
            "\n",
            "22)  New episode of ⁦⁩ tonight 11:30 ⁦⁩ ⁦⁩ ⁦⁩ chrisparnell danharmon http…\n",
            "\n",
            "23) First look at \"The Vat of Acid\" episode. New  tonight at 11:30pm ET/PT on adultswim \n",
            "\n",
            "24) Trade in your crystals for an all new episode of RickandMorty. Tonight at 11:30pm EST/PST on . \n",
            "\n",
            "25) Rick and Morty’s prop designers show what it takes to make a portal gun, the plumbus, and more.  \n",
            "\n",
            "26) Oh really, Tricia? RickandMorty aftercredits \n",
            "\n",
            "27) RT @_phylville: Here's a few of my storyboards from last week's episode, Never Ricking Morty! I loved the Bechdel test scene when I first r…\n",
            "\n",
            "28)  Glorzo is peace. Peace is Glorzo.Here's your new Mortys. \n",
            "\n",
            "29) All is Glorzo! The Rick and Morty crew unpacks “Promortyus,” the show’s first venture into non-linear storytelling:  \n",
            "\n",
            "30)  GLORZO!     Get your hands on more limited edtion, exclusively at Spencer's Rick and Morty tees.r…\n",
            "\n",
            "31) Here, put this on your face. New episode of RickandMorty tonight at 11:30pm EST/PST on . \n",
            "\n",
            "32) Never look at the wet egg. New RickAndMorty airs this Sunday at 11:30pm ET/PT on  \n",
            "\n",
            "33)  What’s the best Jerry episode of Rick and Morty?Pick your favorite, and we’ll watch it live with Jerry's voice actor Chris Parne…\n",
            "\n",
            "34)  The boys came back to town last night, and so are new episode tees! Get these limited edition styles exclusively at Spencer's…\n",
            "\n",
            "35)  New rick and morty episode in 5 minutos\n",
            "\n",
            "36)  Rick and Morty is back tonight. I wrote the first 3 episodes &amp; worked with such incredible writers &amp; artists.I hope you…\n",
            "\n",
            "37)  Tonight! On ⁦⁩ ... New RickandMorty 11:30pm!! We can’t wait for you to see it! ⁦⁩ ⁦…\n",
            "\n",
            "38) Watch the first half of season 4 starting now on . It's all leading up to a new episode of RickandMorty at 11:30PM. \n",
            "\n",
            "39)  We're marathoning the first half of  season 4 tonight beginning at 9. All new episode premieres at 11:30! https…\n",
            "\n",
            "40)  Tonight! A brand NEW episode of !Written by:  Directed by: MeStoryboarded by: @_phylville,…\n",
            "\n",
            "41)  A reminder that Rick and Morty returns AGAIN *THIS* Sunday! Five tasty new eps for your eyeballs \n",
            "\n",
            "42)  Grow extra limbs first, ask questions later.  returns tonight at 11:30pm on adultswim. \n",
            "\n",
            "43) One. more. day.RickandMorty returns tomorrow at 11:30pm on . \n",
            "\n",
            "44) Carbon-based life forms love karaoke. Find more RickandMorty karaoke videos on  \n",
            "\n",
            "45) 4 days dawg. New episodes of RickandMorty begin May 3 at 11:30pm on . \n",
            "\n",
            "46) Five days broh. New episodes of RickandMorty begin May 3 at 11:30 PM on Adult Swim. \n",
            "\n",
            "47)  Wendy Morty is waiting for you. This Morty loves two things: Being fresh, and never being frozen.  ad \n",
            "\n",
            "48) Enjoy this phone background, broh.Art by  \n",
            "\n"
          ],
          "name": "stdout"
        }
      ]
    },
    {
      "cell_type": "code",
      "metadata": {
        "id": "hQUyFlGl7LtJ",
        "colab_type": "code",
        "colab": {
          "base_uri": "https://localhost:8080/",
          "height": 661
        },
        "outputId": "d9a75225-61bd-446e-988b-f3bf2f646a20"
      },
      "source": [
        "# Print the negative tweets\n",
        "j = 1\n",
        "sortedDF = df.sort_values(by=['Polarity'], ascending = 'False')\n",
        "for i in range(0, sortedDF.shape[0]):\n",
        "  if (sortedDF['Analysis'][i] == 'Negative'):\n",
        "    print(str(j) + ') ' + sortedDF['Tweets'][i])\n",
        "    print()\n",
        "    j = j + 1"
      ],
      "execution_count": null,
      "outputs": [
        {
          "output_type": "stream",
          "text": [
            "1) No more need to talk to yourself, Jerry. Catch the Season 4 RickandMorty finale tonight at 11:30pm EST/PST on . \n",
            "\n",
            "2) Speak to the folks behind the show with the Rick and Morty LIVE Companion Podcast, streaming Monday at 10P ET/7P PT. \n",
            "\n",
            "3)  Who wouldn't want a video game style play saving device? Here's your Mortys. \n",
            "\n",
            "4) The crew behind Promortyus answers viewer calls while discussing the intricacies of time jumps, alien facehuggers, and more!  \n",
            "\n",
            "5) It's about time we bring back vats of toxic waste. New RickAndMorty this Sunday at 11:30pm ET/PT on  \n",
            "\n",
            "6) Hang for a sec with our directors. Learn the process.  \n",
            "\n",
            "7) Buy it. Buy it now. Buy the train. It is not real. Buy it ironically. Buy it seriously. Just buy it. \n",
            "\n",
            "8)  Some people believe the entire universe is Floaty Bloody Man's nightmare as he dies in a time-dilated reality. Here's you…\n",
            "\n",
            "9) Co-creator Dan Harmon and writer Jeff Loveness dive into the many literal literary devices in \"Never Ricking Morty\" and their feelings about disgusting yet enviable anatomical features:  \n",
            "\n",
            "10) Things are starting to get a little out of hand.  ad \n",
            "\n",
            "11) Do you all think there's something weird about this train? rickandmorty \n",
            "\n",
            "12) Open the  app and use code AWGEEZ to spice up your premiere night with a free Spicy Chicken Sandwich from Wendy’s. Rick and Morty returns tonight at 11:30p on Adult Swim! ad *$15 min. order \n",
            "\n",
            "13) Spoiler alert: this clip contains absolutely no spoilers. RickandMorty returns tomorrow at 11:30pm ET/PT on adultswim \n",
            "\n",
            "14)  scan pringles to search for end to endless stack pringles \n",
            "\n",
            "15) Be on the lookout for this Honey Butter Chicken Biscuit.  ad \n",
            "\n",
            "16)  Rick and Morty returns with the second half of season four on Sunday, and we've got an exclusive image to share with you…\n",
            "\n",
            "17)  Rick and Morty: Season 4 is about to return, and we have an exclusive look at its upcoming Alien and Prometheus-themed episode. ht…\n",
            "\n",
            "18) Animation challenges, dawg. This shit is hard, broh. \n",
            "\n"
          ],
          "name": "stdout"
        }
      ]
    },
    {
      "cell_type": "code",
      "metadata": {
        "id": "09cPsVWo7ZoJ",
        "colab_type": "code",
        "colab": {
          "base_uri": "https://localhost:8080/",
          "height": 1000
        },
        "outputId": "629468c0-b42d-4212-e56a-c6aac3b0a9c0"
      },
      "source": [
        "# Print the Neutral tweets\n",
        "j = 1\n",
        "sortedDF = df.sort_values(by=['Polarity'])\n",
        "for i in range(0, sortedDF.shape[0]):\n",
        "  if (sortedDF['Analysis'][i] == 'Neutral'):\n",
        "    print(str(j) + ') ' + sortedDF['Tweets'][i])\n",
        "    print()\n",
        "    j = j + 1"
      ],
      "execution_count": null,
      "outputs": [
        {
          "output_type": "stream",
          "text": [
            "1) Worms. rickandmorty  \n",
            "\n",
            "2) Bounty. rickandmorty \n",
            "\n",
            "3) Dreams. rickandmorty \n",
            "\n",
            "4) Glory to Glorzo! Watch 'Promortyus' now on the  app:  \n",
            "\n",
            "5) Stream \"Don't Look Back\" now:  \n",
            "\n",
            "6) Battle for the belt. It's the season 4 finale of RickandMorty - tomorrow at 11:30pm EST/PST on adultswim. \n",
            "\n",
            "7) The Rick and Morty Season Finale is this weekend. Prepare your mind with this brain-tingling quiz and your body with the stomach-tingling  breakfast menu. ad \n",
            "\n",
            "8) It's a comedic premise. rickandmorty aftercredits \n",
            "\n",
            "9)  I need a Rick and Morty in Chromatica meme to happen help\n",
            "\n",
            "10) Dad fight. rickandmorty \n",
            "\n",
            "11) Now that's the camping spirit. rickandmorty  \n",
            "\n",
            "12) rickandmorty  \n",
            "\n",
            "13) Paging Dr. Wong. Watch the season finale of RickandMorty this Sunday at 11:30pm ET/PT on . \n",
            "\n",
            "14) What if Rick f**ked a planet? The Rick and Morty crew decided to explore it:  \n",
            "\n",
            "15) This is just life in the galaxy. rickandmorty \n",
            "\n",
            "16) Quality family time in this one, broh.New RickandMorty tonight at 11:30pm EST/PST on . \n",
            "\n",
            "17) The writer, director and artists who made The Vat of Acid Episode take viewer calls and answer questions about bottle episodes, time travel fantasies, and Easter eggs. \n",
            "\n",
            "18) That rat has some big bones. rickandmorty  \n",
            "\n",
            "19) Take your time, boss. rickandmorty  \n",
            "\n",
            "20) All is Glorzo. Stream 'Glory to Glorzo' today: rickandmorty  \n",
            "\n",
            "21) There's always an M&amp;M's store. RickAndMorty \n",
            "\n",
            "22) Not in here, pal... RickAndMorty  \n",
            "\n",
            "23) What is Glorzo? All is Glorzo. Watch RickandMorty tonight at 11:30pm EST/PST on . \n",
            "\n",
            "24) The episode's director, writer, and artists field viewer phone calls and chat about the details of Never Ricking Morty. \n",
            "\n",
            "25) It's just a circle. rickandmorty  \n",
            "\n",
            "26) And moreeeeee. rickandmorty  \n",
            "\n",
            "27) Here we go dawg. rickandmorty returns tonight at 11:30pm EST on . \n",
            "\n",
            "28) He has his grandfather's eyes. RickandMorty returns tonight at 11:30p on .  \n",
            "\n",
            "29) 2 days.RickandMorty returns May 3 at 11:30p to . \n",
            "\n",
            "30)  Hepatitis A returns to Mortyland tomorrow! Do your Mortys have what it takes? \n",
            "\n",
            "31) Meet the character artists. Get inside their *minds*  \n",
            "\n",
            "32) ahhhhhhhhhhhhhhhhhhhhhhhhhhhhhhhhhhhhhhhhhhhhhhhhhhhhhhhhhhhhhhhhhhhhhhhhhhhhhhhhhhhhhhhhh3 days. RickandMorty returns this Sunday at 11:30pm on . \n",
            "\n",
            "33) Screen time.  \n",
            "\n",
            "34) Yum. Today's phone background by Sam Lyon. \n",
            "\n"
          ],
          "name": "stdout"
        }
      ]
    },
    {
      "cell_type": "code",
      "metadata": {
        "id": "w-VF3Z5S82V2",
        "colab_type": "code",
        "colab": {
          "base_uri": "https://localhost:8080/",
          "height": 441
        },
        "outputId": "c258e761-6fd5-4325-8a21-1471bbd1ccbb"
      },
      "source": [
        "# Plot the polaritty and subjectivity\n",
        "plt.figure(figsize=(8,6))\n",
        "for i in range(0, df.shape[0]):\n",
        "  plt.scatter(df['Polarity'][i], df['Subjectivity'][i], color = 'Blue')\n",
        "plt.title('Sentiment Analysis')\n",
        "plt.xlabel('Polarity')\n",
        "plt.ylabel('Subjectivity')\n",
        "plt.show()"
      ],
      "execution_count": null,
      "outputs": [
        {
          "output_type": "display_data",
          "data": {
            "image/png": "[encoded data removed]",
            "text/plain": [
              "<Figure size 576x432 with 1 Axes>"
            ]
          },
          "metadata": {
            "tags": []
          }
        }
      ]
    },
    {
      "cell_type": "code",
      "metadata": {
        "id": "clq-qy3k9urP",
        "colab_type": "code",
        "colab": {
          "base_uri": "https://localhost:8080/",
          "height": 35
        },
        "outputId": "ed17a285-4093-40ed-d36a-a727f8cb5e9d"
      },
      "source": [
        "# Get the percentage of positive tweets\n",
        "ptweets = df[df.Analysis == 'Positive']\n",
        "ptweets = ptweets['Tweets']\n",
        "\n",
        "round(    (ptweets.shape[0] / df.shape[0]) *100, 1)"
      ],
      "execution_count": null,
      "outputs": [
        {
          "output_type": "execute_result",
          "data": {
            "text/plain": [
              "48.0"
            ]
          },
          "metadata": {
            "tags": []
          },
          "execution_count": 56
        }
      ]
    },
    {
      "cell_type": "code",
      "metadata": {
        "id": "J_RzOnEu-wgv",
        "colab_type": "code",
        "colab": {
          "base_uri": "https://localhost:8080/",
          "height": 35
        },
        "outputId": "69c94f61-b0bc-4760-d4d3-3a768ecb92cf"
      },
      "source": [
        "# Get the percentage of neutral tweets\n",
        "neutweets = df[df.Analysis == 'Neutral']\n",
        "neutweets = neutweets['Tweets']\n",
        "\n",
        "round(    (neutweets.shape[0] / df.shape[0]) *100, 1)"
      ],
      "execution_count": null,
      "outputs": [
        {
          "output_type": "execute_result",
          "data": {
            "text/plain": [
              "34.0"
            ]
          },
          "metadata": {
            "tags": []
          },
          "execution_count": 62
        }
      ]
    },
    {
      "cell_type": "code",
      "metadata": {
        "id": "yACaWRa0-4-H",
        "colab_type": "code",
        "colab": {
          "base_uri": "https://localhost:8080/",
          "height": 35
        },
        "outputId": "e31561a5-cd59-4b9d-e00d-9eeeb70fa57b"
      },
      "source": [
        "# Get the percentage of negative tweets\n",
        "ntweets = df[df.Analysis == 'Negative']\n",
        "ntweets = ntweets['Tweets']\n",
        "\n",
        "round(    (ntweets.shape[0] / df.shape[0]) *100, 1)"
      ],
      "execution_count": null,
      "outputs": [
        {
          "output_type": "execute_result",
          "data": {
            "text/plain": [
              "18.0"
            ]
          },
          "metadata": {
            "tags": []
          },
          "execution_count": 63
        }
      ]
    },
    {
      "cell_type": "code",
      "metadata": {
        "id": "URcXNZe__YBW",
        "colab_type": "code",
        "colab": {
          "base_uri": "https://localhost:8080/",
          "height": 374
        },
        "outputId": "cc4d9dd8-eeaa-4e1c-85c4-1d669905d17c"
      },
      "source": [
        "# Show the value counts\n",
        "df['Analysis'].value_counts()\n",
        "\n",
        "# plot and visualize the counts\n",
        "plt.title('Sentiment Analysis')\n",
        "plt.xlabel('Sentiment')\n",
        "plt.ylabel('Counts')\n",
        "df['Analysis'].value_counts().plot(kind='bar')\n",
        "plt.show()"
      ],
      "execution_count": null,
      "outputs": [
        {
          "output_type": "display_data",
          "data": {
            "image/png": "[encoded data removed]",
            "text/plain": [
              "<Figure size 432x288 with 1 Axes>"
            ]
          },
          "metadata": {
            "tags": []
          }
        }
      ]
    }
  ]
}